{
 "cells": [
  {
   "cell_type": "markdown",
   "metadata": {},
   "source": [
    "# How to grow your bussiness in Chorrera, an aglommerative of people in Panama Oeste."
   ]
  },
  {
   "cell_type": "markdown",
   "metadata": {},
   "source": [
    "#### The Republic of Panama is a small country and the center of all the business is done in the capital: Panama City. \n",
    "There has been big efforts to reduce people density in Panama City, but the \"solutions\" has only made it worse, because people don't want to leave Panama. \n",
    "\n",
    "In the recent years Panama (province) was divided into Panama and \"Panama Oeste\", the second one was a formalization to the density of people that live in there, but it doesn't mean that people actually spend their days working in there. In fact, every morning there are several traffic jams from Panama Oeste to Panama, because there are not enoguh jobs in Panama Oeste. Also, people tend to come to the capital in order to distract themselves at bars, clubs, restaurants,cafes, malls and recreational places.\n",
    "\n",
    "## How come to be that in a region with a big ammount of people there are just smalls business and franchises but their people don't consume in there? Why do they prefer to go to the capital?"
   ]
  },
  {
   "cell_type": "markdown",
   "metadata": {},
   "source": [
    "In this project I'll be looking at the differences between three main cities in the Republic of Panama: David, Panama and Chorrera.\n",
    "This will be done in order to determine what kind of business atract people in Panama comparing a city which is already full (Panama), a city that has a moderate population density being on the other side of the country (David),a City that is based on services activities with a fair amount of people in it (Colon) and a city with a high population density that doesn't have high attractiveness."
   ]
  },
  {
   "cell_type": "markdown",
   "metadata": {},
   "source": [
    "## Datasets that will be used during this project."
   ]
  },
  {
   "cell_type": "markdown",
   "metadata": {},
   "source": [
    "I'll use some datasets provided by the **INEC** (National institute of statistics and census). \n",
    "\n",
    "The first type of dataset is related to the construction made by the private sector during the last 3 years. In it will be used to analyze the growth of the private sector in the cities mentioned above. The link to the dataset is as follows: \n",
    "\n",
    "1.[INEC construction January 2018-2019](https://www.inec.gob.pa/archivos/A0705547520200131133335Difusi%C3%B3n%20de%20Construcci%C3%B3n%20enero-diciembre%202019.pdf) \n",
    "\n",
    "2.[INEC construction January 2017-2018](https://www.inec.gob.pa/archivos/A121Difusi%C3%B3n%20de%20Construcci%C3%B3n%20enero-diciembre%202018.pdf)\n",
    "\n",
    "3.[INEC construction January 2016-2017](https://www.inec.gob.pa/archivos/A121Construcci%C3%B3n%20de%20diciembre%202016.pdf)\n",
    "\n",
    "Also if a **xls** version is needed it can be downaloded trough this site : [INEC](https://www.inec.gob.pa/avance/Default2.aspx?ID_CATEGORIA=2&ID_CIFRAS=14&ID_IDIOMA=1)"
   ]
  },
  {
   "cell_type": "markdown",
   "metadata": {},
   "source": [
    "#### Dataset used to corroborate the population denstity: [Popoulation density by year and province](https://www.inec.gob.pa/archivos/P8821012-05.xls)"
   ]
  },
  {
   "cell_type": "markdown",
   "metadata": {},
   "source": [
    "So with the previous information and the help of the **Foursquare API** I will explore the  venues in each city and determine what kind of place is more visited by the panamanian in order to give recommendations for a new type of business around \"La Chorrera\" "
   ]
  },
  {
   "cell_type": "markdown",
   "metadata": {},
   "source": [
    "So, in order to gather Foursquare information from the nearby avenues I will address the most populars boroughs of every city to be taken in consideration [Dataset for the different boroughs in provinces](https://es.wikipedia.org/wiki/Anexo:Corregimientos_de_Panam%C3%A1)"
   ]
  },
  {
   "cell_type": "code",
   "execution_count": null,
   "metadata": {},
   "outputs": [],
   "source": []
  }
 ],
 "metadata": {
  "kernelspec": {
   "display_name": "Python 3",
   "language": "python",
   "name": "python3"
  },
  "language_info": {
   "codemirror_mode": {
    "name": "ipython",
    "version": 3
   },
   "file_extension": ".py",
   "mimetype": "text/x-python",
   "name": "python",
   "nbconvert_exporter": "python",
   "pygments_lexer": "ipython3",
   "version": "3.7.6"
  }
 },
 "nbformat": 4,
 "nbformat_minor": 4
}
